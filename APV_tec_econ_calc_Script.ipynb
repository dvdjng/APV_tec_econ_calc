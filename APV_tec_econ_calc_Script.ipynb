{
 "cells": [
  {
   "cell_type": "markdown",
   "metadata": {},
   "source": [
    "Import libaries"
   ]
  },
  {
   "cell_type": "code",
   "execution_count": 1,
   "metadata": {},
   "outputs": [],
   "source": [
    "import numpy as np\n",
    "import pandas as pd\n",
    "import pvlib\n",
    "import importlib\n",
    "import datetime\n",
    "import pytz"
   ]
  },
  {
   "cell_type": "markdown",
   "metadata": {},
   "source": [
    "Local libary"
   ]
  },
  {
   "cell_type": "code",
   "execution_count": 63,
   "metadata": {},
   "outputs": [
    {
     "data": {
      "text/plain": [
       "<module 'av_utils' from 'c:\\\\Users\\\\david.jung\\\\APV_tec_econ_calc\\\\APV_tec_econ_calc\\\\av_utils.py'>"
      ]
     },
     "execution_count": 63,
     "metadata": {},
     "output_type": "execute_result"
    }
   ],
   "source": [
    "import av_utils as av\n",
    "importlib.reload(av)"
   ]
  },
  {
   "cell_type": "markdown",
   "metadata": {},
   "source": [
    "Functions with inputs and results"
   ]
  },
  {
   "cell_type": "code",
   "execution_count": 66,
   "metadata": {},
   "outputs": [],
   "source": [
    "# Location for TMY download\n",
    "\n",
    "latitude = -15.087836  # latitude of the location (Mocambinho)\n",
    "longitude = -44.015762 #\n",
    "#altitude  = 454\n",
    "tz= 'Brazil/East'  \n",
    "\n",
    "# Dowload of TMY from PVGIS, altitude \n",
    "tmy, altitude = av.tmy_download(latitude, longitude, tz)"
   ]
  },
  {
   "cell_type": "code",
   "execution_count": 67,
   "metadata": {},
   "outputs": [],
   "source": [
    "# Inputs for PV simulation\n",
    "albedo = 0.2\n",
    "track = True\n",
    "pvrow_azimuth = 90\n",
    "pvrow_tilt = 60\n",
    "n_pvrows = 3\n",
    "pvrow_width = 1\n",
    "pvrow_pitch = 4\n",
    "pvrow_height = 3\n",
    "bifaciality = 0.9\n",
    "\n",
    "# PV simulation (pvlib viewfactors)\n",
    "pv = av.pv_yield(tmy_data = tmy, \n",
    "                albedo = albedo, \n",
    "                track = track, \n",
    "                pvrow_azimuth = pvrow_azimuth, \n",
    "                pvrow_tilt = pvrow_tilt, \n",
    "                n_pvrows = n_pvrows, \n",
    "                pvrow_width = pvrow_width, \n",
    "                pvrow_pitch = pvrow_pitch, \n",
    "                pvrow_height = pvrow_height, \n",
    "                bifaciality = bifaciality)\n",
    "print(\"PV generation is \"+str(pv.sum()/1000)+\" kWh/kWp/year\")"
   ]
  },
  {
   "cell_type": "code",
   "execution_count": 57,
   "metadata": {},
   "outputs": [
    {
     "name": "stdout",
     "output_type": "stream",
     "text": [
      "LCOE of the simulated system is 0.05 USD/kWh\n"
     ]
    }
   ],
   "source": [
    "# Input for LCOE calculation\n",
    "kWp = 100\n",
    "capex = 1000         # per kWp    \n",
    "opex = 20             # per kWp/y\n",
    "wacc = 0.055\n",
    "degre = 0.005\n",
    "inflation = 0.03\n",
    "N = 25\n",
    "\n",
    "# LCOE calculation (can be externalized as functions in av_utils)\n",
    "cashflow= pd.DataFrame(index=range(0,N))\n",
    "cashflow[\"OPEX_des\"] = (opex * kWp * (1+inflation)**cashflow.index) / (1+wacc)**cashflow.index\n",
    "cashflow[\"EG_des\"] = (pv.sum()/1000 * kWp * (1-degre)**cashflow.index) / (1+wacc)**cashflow.index\n",
    "LCOE =  (capex * kWp + cashflow[\"OPEX_des\"].sum() ) / cashflow[\"EG_des\"].sum()\n",
    "print(\"LCOE of the simulated system is \"+str(round(LCOE,2))+\" USD/kWh\")"
   ]
  },
  {
   "cell_type": "markdown",
   "metadata": {},
   "source": [
    "Next steps:\n",
    "- create website where inputs can be changed and results displayed (https://streamlit.io/, https://www.youtube.com/watch?v=VqgUkExPvLY) \n",
    "- Add other APV dimensions: Water costs and water protection...\n"
   ]
  }
 ],
 "metadata": {
  "kernelspec": {
   "display_name": "Python 3",
   "language": "python",
   "name": "python3"
  },
  "language_info": {
   "codemirror_mode": {
    "name": "ipython",
    "version": 3
   },
   "file_extension": ".py",
   "mimetype": "text/x-python",
   "name": "python",
   "nbconvert_exporter": "python",
   "pygments_lexer": "ipython3",
   "version": "3.9.6"
  },
  "orig_nbformat": 4
 },
 "nbformat": 4,
 "nbformat_minor": 2
}
